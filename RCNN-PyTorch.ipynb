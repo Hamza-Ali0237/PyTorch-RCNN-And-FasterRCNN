{
  "cells": [
    {
      "cell_type": "markdown",
      "metadata": {
        "id": "view-in-github",
        "colab_type": "text"
      },
      "source": [
        "<a href=\"https://colab.research.google.com/github/Hamza-Ali0237/PyTorch-RCNN-Cats-And-Dogs/blob/main/RCNN-PyTorch.ipynb\" target=\"_parent\"><img src=\"https://colab.research.google.com/assets/colab-badge.svg\" alt=\"Open In Colab\"/></a>"
      ]
    },
    {
      "cell_type": "markdown",
      "source": [
        "Dataset: [https://www.kaggle.com/datasets/tongpython/cat-and-dog](https://)"
      ],
      "metadata": {
        "id": "PCrRJOdVjYry"
      }
    },
    {
      "cell_type": "code",
      "source": [
        "from google.colab import drive\n",
        "drive.mount('/content/drive')"
      ],
      "metadata": {
        "colab": {
          "base_uri": "https://localhost:8080/"
        },
        "id": "djBrlONUr8LV",
        "outputId": "53e71ebb-c6eb-4f40-e8aa-eaa7b485758b"
      },
      "execution_count": 6,
      "outputs": [
        {
          "output_type": "stream",
          "name": "stdout",
          "text": [
            "Mounted at /content/drive\n"
          ]
        }
      ]
    },
    {
      "cell_type": "code",
      "execution_count": 7,
      "metadata": {
        "vscode": {
          "languageId": "plaintext"
        },
        "id": "WjHB2Gaig1Yd"
      },
      "outputs": [],
      "source": [
        "import os\n",
        "import torch as T\n",
        "import torch.nn as nn\n",
        "import torchvision as tv\n",
        "from torchvision.models import vgg16, VGG16_Weights"
      ]
    },
    {
      "cell_type": "code",
      "source": [
        "class ObjectDetectorCNN(nn.Module):\n",
        "  def __init__(self):\n",
        "    super(ObjectDetectorCNN, self).__init__()\n",
        "    # Define VGG16 model as backbone\n",
        "    vgg = vgg16(weights=VGG16_Weights.DEFAULT)\n",
        "    self.backbone = nn.Sequential(*list(\n",
        "        vgg.features.children()),\n",
        "        nn.AdaptiveAvgPool2d((7,7)),\n",
        "        nn.Flatten()\n",
        "    )\n",
        "    # Extract input_features from VGG16\n",
        "    # input_features = nn.Sequential(*list(\n",
        "    #     vgg.classifier.children()\n",
        "    # ))[0].in_features\n",
        "    input_features = 7 * 7 * 512\n",
        "    # Define the classifier\n",
        "    self.classifier = nn.Sequential(\n",
        "        nn.Linear(input_features, 512),\n",
        "        nn.ReLU(),\n",
        "        nn.Linear(512, 2)\n",
        "    )\n",
        "    # Define the regressor\n",
        "    self.box_regressor = nn.Sequential(\n",
        "        nn.Linear(input_features, 512),\n",
        "        nn.ReLU(),\n",
        "        nn.Linear(512, 4)\n",
        "    )\n",
        "\n",
        "  def forward(self, x):\n",
        "    features = self.backbone(x)\n",
        "    bboxes = self.box_regressor(features)\n",
        "    classes = self.classifier(features)\n",
        "    return bboxes, classes"
      ],
      "metadata": {
        "id": "ar-T1cp3icBP"
      },
      "execution_count": 30,
      "outputs": []
    },
    {
      "cell_type": "code",
      "source": [
        "model = ObjectDetectorCNN()"
      ],
      "metadata": {
        "id": "9VTKoCYNnRUv"
      },
      "execution_count": 31,
      "outputs": []
    },
    {
      "cell_type": "code",
      "source": [
        "print(model)"
      ],
      "metadata": {
        "colab": {
          "base_uri": "https://localhost:8080/"
        },
        "id": "uIuOup6QnW1O",
        "outputId": "20d72fd6-3064-4094-97a0-a4524872a0f6"
      },
      "execution_count": 32,
      "outputs": [
        {
          "output_type": "stream",
          "name": "stdout",
          "text": [
            "ObjectDetectorCNN(\n",
            "  (backbone): Sequential(\n",
            "    (0): Conv2d(3, 64, kernel_size=(3, 3), stride=(1, 1), padding=(1, 1))\n",
            "    (1): ReLU(inplace=True)\n",
            "    (2): Conv2d(64, 64, kernel_size=(3, 3), stride=(1, 1), padding=(1, 1))\n",
            "    (3): ReLU(inplace=True)\n",
            "    (4): MaxPool2d(kernel_size=2, stride=2, padding=0, dilation=1, ceil_mode=False)\n",
            "    (5): Conv2d(64, 128, kernel_size=(3, 3), stride=(1, 1), padding=(1, 1))\n",
            "    (6): ReLU(inplace=True)\n",
            "    (7): Conv2d(128, 128, kernel_size=(3, 3), stride=(1, 1), padding=(1, 1))\n",
            "    (8): ReLU(inplace=True)\n",
            "    (9): MaxPool2d(kernel_size=2, stride=2, padding=0, dilation=1, ceil_mode=False)\n",
            "    (10): Conv2d(128, 256, kernel_size=(3, 3), stride=(1, 1), padding=(1, 1))\n",
            "    (11): ReLU(inplace=True)\n",
            "    (12): Conv2d(256, 256, kernel_size=(3, 3), stride=(1, 1), padding=(1, 1))\n",
            "    (13): ReLU(inplace=True)\n",
            "    (14): Conv2d(256, 256, kernel_size=(3, 3), stride=(1, 1), padding=(1, 1))\n",
            "    (15): ReLU(inplace=True)\n",
            "    (16): MaxPool2d(kernel_size=2, stride=2, padding=0, dilation=1, ceil_mode=False)\n",
            "    (17): Conv2d(256, 512, kernel_size=(3, 3), stride=(1, 1), padding=(1, 1))\n",
            "    (18): ReLU(inplace=True)\n",
            "    (19): Conv2d(512, 512, kernel_size=(3, 3), stride=(1, 1), padding=(1, 1))\n",
            "    (20): ReLU(inplace=True)\n",
            "    (21): Conv2d(512, 512, kernel_size=(3, 3), stride=(1, 1), padding=(1, 1))\n",
            "    (22): ReLU(inplace=True)\n",
            "    (23): MaxPool2d(kernel_size=2, stride=2, padding=0, dilation=1, ceil_mode=False)\n",
            "    (24): Conv2d(512, 512, kernel_size=(3, 3), stride=(1, 1), padding=(1, 1))\n",
            "    (25): ReLU(inplace=True)\n",
            "    (26): Conv2d(512, 512, kernel_size=(3, 3), stride=(1, 1), padding=(1, 1))\n",
            "    (27): ReLU(inplace=True)\n",
            "    (28): Conv2d(512, 512, kernel_size=(3, 3), stride=(1, 1), padding=(1, 1))\n",
            "    (29): ReLU(inplace=True)\n",
            "    (30): MaxPool2d(kernel_size=2, stride=2, padding=0, dilation=1, ceil_mode=False)\n",
            "    (31): AdaptiveAvgPool2d(output_size=(7, 7))\n",
            "    (32): Flatten(start_dim=1, end_dim=-1)\n",
            "  )\n",
            "  (classifier): Sequential(\n",
            "    (0): Linear(in_features=25088, out_features=512, bias=True)\n",
            "    (1): ReLU()\n",
            "    (2): Linear(in_features=512, out_features=2, bias=True)\n",
            "  )\n",
            "  (box_regressor): Sequential(\n",
            "    (0): Linear(in_features=25088, out_features=512, bias=True)\n",
            "    (1): ReLU()\n",
            "    (2): Linear(in_features=512, out_features=4, bias=True)\n",
            "  )\n",
            ")\n"
          ]
        }
      ]
    },
    {
      "cell_type": "code",
      "source": [
        "train_set = \"/content/drive/MyDrive/cats-dogs/train_set/\"\n",
        "test_set = \"/content/drive/MyDrive/cats-dogs/test_set/\""
      ],
      "metadata": {
        "id": "PnaUYNlKoJk1"
      },
      "execution_count": 23,
      "outputs": []
    },
    {
      "cell_type": "code",
      "source": [
        "# Define transformations to apply on images\n",
        "transform = tv.transforms.Compose([\n",
        "    tv.transforms.Resize((224, 224)),\n",
        "    tv.transforms.ToTensor(),\n",
        "    tv.transforms.Normalize([0.485, 0.456, 0.406], [0.229, 0.224, 0.225])\n",
        "])"
      ],
      "metadata": {
        "id": "b8ovLURbs8nu"
      },
      "execution_count": 24,
      "outputs": []
    },
    {
      "cell_type": "code",
      "source": [
        "# Load dataset\n",
        "train_dataset = tv.datasets.ImageFolder(train_set, transform=transform)\n",
        "test_dataset = tv.datasets.ImageFolder(test_set, transform=transform)\n",
        "\n",
        "batch_size = 32\n",
        "\n",
        "dataloader_train = T.utils.data.DataLoader(train_dataset, batch_size=batch_size, shuffle=True, num_workers=4)\n",
        "dataloader_test = T.utils.data.DataLoader(test_dataset, batch_size=batch_size, shuffle=True, num_workers=4)"
      ],
      "metadata": {
        "colab": {
          "base_uri": "https://localhost:8080/"
        },
        "id": "e8TqhUBbtTIl",
        "outputId": "12b960ed-337d-4801-f3a5-8a0fd62b4f78"
      },
      "execution_count": 25,
      "outputs": [
        {
          "output_type": "stream",
          "name": "stderr",
          "text": [
            "/usr/local/lib/python3.10/dist-packages/torch/utils/data/dataloader.py:617: UserWarning: This DataLoader will create 4 worker processes in total. Our suggested max number of worker in current system is 2, which is smaller than what this DataLoader is going to create. Please be aware that excessive worker creation might get DataLoader running slow or even freeze, lower the worker number to avoid potential slowness/freeze if necessary.\n",
            "  warnings.warn(\n"
          ]
        }
      ]
    },
    {
      "cell_type": "code",
      "source": [
        "classes = train_dataset.classes\n",
        "print(f\"Classes: {classes}\")"
      ],
      "metadata": {
        "colab": {
          "base_uri": "https://localhost:8080/"
        },
        "id": "OcP3q5j_uQ9N",
        "outputId": "0a054343-b1af-483b-b34d-5cb1079161c5"
      },
      "execution_count": 26,
      "outputs": [
        {
          "output_type": "stream",
          "name": "stdout",
          "text": [
            "Classes: ['cats', 'dogs']\n"
          ]
        }
      ]
    },
    {
      "cell_type": "code",
      "source": [
        "# Training the model\n",
        "class_criterion = nn.BCELoss()\n",
        "\n",
        "model.training()"
      ],
      "metadata": {
        "id": "O5cHIW14uVci"
      },
      "execution_count": null,
      "outputs": []
    },
    {
      "cell_type": "code",
      "source": [],
      "metadata": {
        "id": "87atv5TFyaNs"
      },
      "execution_count": null,
      "outputs": []
    }
  ],
  "metadata": {
    "language_info": {
      "name": "python"
    },
    "colab": {
      "provenance": [],
      "gpuType": "T4",
      "include_colab_link": true
    },
    "accelerator": "GPU",
    "kernelspec": {
      "name": "python3",
      "display_name": "Python 3"
    }
  },
  "nbformat": 4,
  "nbformat_minor": 0
}