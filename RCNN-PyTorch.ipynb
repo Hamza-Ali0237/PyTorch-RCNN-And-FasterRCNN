{
  "cells": [
    {
      "cell_type": "markdown",
      "metadata": {
        "id": "view-in-github",
        "colab_type": "text"
      },
      "source": [
        "<a href=\"https://colab.research.google.com/github/Hamza-Ali0237/PyTorch-RCNN-Cats-And-Dogs/blob/main/RCNN-PyTorch.ipynb\" target=\"_parent\"><img src=\"https://colab.research.google.com/assets/colab-badge.svg\" alt=\"Open In Colab\"/></a>"
      ]
    },
    {
      "cell_type": "markdown",
      "source": [
        "Dataset: [https://www.kaggle.com/datasets/tongpython/cat-and-dog](https://)"
      ],
      "metadata": {
        "id": "PCrRJOdVjYry"
      }
    },
    {
      "cell_type": "code",
      "execution_count": null,
      "metadata": {
        "vscode": {
          "languageId": "plaintext"
        },
        "id": "WjHB2Gaig1Yd"
      },
      "outputs": [],
      "source": [
        "import torch as T\n",
        "import torch.nn as nn\n",
        "import torchvision as tv\n",
        "from torchvision.models import vgg16, VGG16_Weights"
      ]
    },
    {
      "cell_type": "code",
      "source": [
        "class ObjectDetectorCNN(nn.Module):\n",
        "  def __init__(self):\n",
        "    super(ObjectDetectorCNN, self).__init__()\n",
        "    # Define VGG16 model as backbone\n",
        "    vgg = vgg16(weights=VGG16_Weights.DEFAULT)\n",
        "    self.backbone = nn.Sequential(*list(\n",
        "        vgg.features.children()\n",
        "    ))\n",
        "    # Extract input_features from VGG16\n",
        "    input_features = nn.Sequential(*list(\n",
        "        vgg.classifier.children()\n",
        "    ))[0].in_features\n",
        "    # Define the classifier\n",
        "    self.classifier = nn.Sequential(\n",
        "        nn.Linear(input_features, 512),\n",
        "        nn.ReLU(),\n",
        "        nn.Linear(512, 2)\n",
        "    )\n",
        "    # Define the regressor\n",
        "    self.box_regressor = nn.Sequential(\n",
        "        nn.Linear(input_features, 32),\n",
        "        nn.ReLU(),\n",
        "        nn.Linear(32, 4)\n",
        "    )\n",
        "\n",
        "  def forward(self, x):\n",
        "    features = self.backbone(x)\n",
        "    bboxes = self.regressor(features)\n",
        "    classes = self.classifier(features)\n",
        "    return bboxes, classes"
      ],
      "metadata": {
        "id": "ar-T1cp3icBP"
      },
      "execution_count": null,
      "outputs": []
    }
  ],
  "metadata": {
    "language_info": {
      "name": "python"
    },
    "colab": {
      "provenance": [],
      "gpuType": "T4",
      "include_colab_link": true
    },
    "accelerator": "GPU",
    "kernelspec": {
      "name": "python3",
      "display_name": "Python 3"
    }
  },
  "nbformat": 4,
  "nbformat_minor": 0
}